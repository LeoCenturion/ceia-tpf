{
 "cells": [
  {
   "cell_type": "code",
   "execution_count": 1,
   "id": "6e158857-b2cf-4bac-9366-be45cf6310f0",
   "metadata": {
    "collapsed": false
   },
   "outputs": [],
   "source": [
    "%load_ext autoreload\n",
    "%autoreload 2"
   ]
  },
  {
   "cell_type": "code",
   "execution_count": 2,
   "id": "b4035dd5-d9e4-4847-b818-164d035341e8",
   "metadata": {
    "collapsed": false
   },
   "outputs": [],
   "source": [
    "import pandas as pd\n",
    "import numpy as np\n",
    "# import statsmodels as stat\n",
    "import matplotlib.pyplot as plt\n",
    "import seaborn as sns\n",
    "from utils import Variable, read_values\n",
    "\n",
    "from sklearn.metrics import classification_report"
   ]
  },
  {
   "cell_type": "code",
   "execution_count": 3,
   "id": "3382d712-d57d-4e89-b2e5-834246fc3459",
   "metadata": {
    "collapsed": false
   },
   "outputs": [],
   "source": [
    "values = read_values()\n",
    "jan_2023 = values[2023][1]"
   ]
  },
  {
   "cell_type": "code",
   "execution_count": 4,
   "id": "50e32a24-6d7b-4f40-8017-1bf3472fd713",
   "metadata": {
    "collapsed": false
   },
   "outputs": [],
   "source": [
    "def compute_lags(df):\n",
    "    df['open_l1'] = df['open'].shift(1)\n",
    "    df['open_l2'] = df['open'].shift(2)\n",
    "    df['open_l3'] = df['open'].shift(3)\n",
    "    df['open_l4'] = df['open'].shift(4)\n",
    "\n",
    "def compute_diff(df):\n",
    "    df['open_diff'] =  df['open'] - df['open'].shift(1)\n",
    "\n",
    "def compute_rw(df):\n",
    "    df['rw_4'] = df['open_diff'].rolling(window=4).mean()\n",
    "\n",
    "def preproc(df):\n",
    "    compute_lags(df)\n",
    "    compute_diff(df)\n",
    "    compute_rw(df)\n",
    "    df.set_index('open_date', inplace=True)\n",
    "    return df"
   ]
  },
  {
   "cell_type": "code",
   "execution_count": 7,
   "id": "1c7ce996-eab6-43a8-9024-8fed1d4d4a4d",
   "metadata": {
    "collapsed": false
   },
   "outputs": [
    {
     "data": {
      "text/html": [
       "<div>\n",
       "<style scoped>\n",
       "    .dataframe tbody tr th:only-of-type {\n",
       "        vertical-align: middle;\n",
       "    }\n",
       "\n",
       "    .dataframe tbody tr th {\n",
       "        vertical-align: top;\n",
       "    }\n",
       "\n",
       "    .dataframe thead th {\n",
       "        text-align: right;\n",
       "    }\n",
       "</style>\n",
       "<table border=\"1\" class=\"dataframe\">\n",
       "  <thead>\n",
       "    <tr style=\"text-align: right;\">\n",
       "      <th></th>\n",
       "      <th>open_time</th>\n",
       "      <th>open</th>\n",
       "      <th>high</th>\n",
       "      <th>low</th>\n",
       "      <th>close</th>\n",
       "      <th>volume</th>\n",
       "      <th>close_time</th>\n",
       "      <th>quote_assets_volume</th>\n",
       "      <th>number_of_trades</th>\n",
       "      <th>taker_buy_base_asset_vol</th>\n",
       "      <th>taker_buy_quote_asset_vol</th>\n",
       "      <th>ignore</th>\n",
       "      <th>open_date</th>\n",
       "      <th>diff</th>\n",
       "      <th>dow</th>\n",
       "    </tr>\n",
       "  </thead>\n",
       "  <tbody>\n",
       "  </tbody>\n",
       "</table>\n",
       "</div>"
      ],
      "text/plain": [
       "Empty DataFrame\n",
       "Columns: [open_time, open, high, low, close, volume, close_time, quote_assets_volume, number_of_trades, taker_buy_base_asset_vol, taker_buy_quote_asset_vol, ignore, open_date, diff, dow]\n",
       "Index: []"
      ]
     },
     "execution_count": 7,
     "metadata": {},
     "output_type": "execute_result"
    }
   ],
   "source": [
    "jan_2023.loc['2023-01-01 01:00:00':'2023-01-02 01:00:00']"
   ]
  },
  {
   "cell_type": "code",
   "execution_count": null,
   "id": "f7b60a21-b938-4d06-88bf-0bb13ce67284",
   "metadata": {
    "collapsed": false
   },
   "outputs": [],
   "source": [
    "plt.figure(figsize=(10,10))\n",
    "df = jan_2023\n",
    "df = preproc(df)\n",
    "sns.lineplot(df['open_diff'])\n",
    "sns.lineplot(df['rw_4'])"
   ]
  },
  {
   "cell_type": "code",
   "execution_count": 27,
   "id": "d58c04db-153d-491f-91e7-fef57ee3c513",
   "metadata": {
    "collapsed": false
   },
   "outputs": [
    {
     "data": {
      "text/html": [
       "<div>\n",
       "<style scoped>\n",
       "    .dataframe tbody tr th:only-of-type {\n",
       "        vertical-align: middle;\n",
       "    }\n",
       "\n",
       "    .dataframe tbody tr th {\n",
       "        vertical-align: top;\n",
       "    }\n",
       "\n",
       "    .dataframe thead th {\n",
       "        text-align: right;\n",
       "    }\n",
       "</style>\n",
       "<table border=\"1\" class=\"dataframe\">\n",
       "  <thead>\n",
       "    <tr style=\"text-align: right;\">\n",
       "      <th></th>\n",
       "      <th>open_time</th>\n",
       "      <th>open</th>\n",
       "      <th>high</th>\n",
       "      <th>low</th>\n",
       "      <th>close</th>\n",
       "      <th>volume</th>\n",
       "      <th>close_time</th>\n",
       "      <th>quote_assets_volume</th>\n",
       "      <th>number_of_trades</th>\n",
       "      <th>taker_buy_base_asset_vol</th>\n",
       "      <th>taker_buy_quote_asset_vol</th>\n",
       "      <th>ignore</th>\n",
       "      <th>diff</th>\n",
       "      <th>dow</th>\n",
       "      <th>open_l1</th>\n",
       "      <th>open_l2</th>\n",
       "      <th>open_l3</th>\n",
       "      <th>open_l4</th>\n",
       "      <th>open_diff</th>\n",
       "      <th>rw_4</th>\n",
       "    </tr>\n",
       "    <tr>\n",
       "      <th>open_date</th>\n",
       "      <th></th>\n",
       "      <th></th>\n",
       "      <th></th>\n",
       "      <th></th>\n",
       "      <th></th>\n",
       "      <th></th>\n",
       "      <th></th>\n",
       "      <th></th>\n",
       "      <th></th>\n",
       "      <th></th>\n",
       "      <th></th>\n",
       "      <th></th>\n",
       "      <th></th>\n",
       "      <th></th>\n",
       "      <th></th>\n",
       "      <th></th>\n",
       "      <th></th>\n",
       "      <th></th>\n",
       "      <th></th>\n",
       "      <th></th>\n",
       "    </tr>\n",
       "  </thead>\n",
       "  <tbody>\n",
       "  </tbody>\n",
       "</table>\n",
       "</div>"
      ],
      "text/plain": [
       "Empty DataFrame\n",
       "Columns: [open_time, open, high, low, close, volume, close_time, quote_assets_volume, number_of_trades, taker_buy_base_asset_vol, taker_buy_quote_asset_vol, ignore, diff, dow, open_l1, open_l2, open_l3, open_l4, open_diff, rw_4]\n",
       "Index: []"
      ]
     },
     "execution_count": 27,
     "metadata": {},
     "output_type": "execute_result"
    }
   ],
   "source": [
    "df.head()"
   ]
  },
  {
   "cell_type": "code",
   "execution_count": 11,
   "id": "ef2fc24e-a51a-480a-9be2-555d32a6f11a",
   "metadata": {
    "collapsed": false
   },
   "outputs": [
    {
     "name": "stdout",
     "output_type": "stream",
     "text": [
      "              precision    recall  f1-score   support\n",
      "\n",
      "       False       0.49      0.62      0.55       336\n",
      "        True       0.60      0.48      0.53       407\n",
      "\n",
      "    accuracy                           0.54       743\n",
      "   macro avg       0.55      0.55      0.54       743\n",
      "weighted avg       0.55      0.54      0.54       743\n",
      "\n"
     ]
    }
   ],
   "source": [
    "\n",
    "buy = np.where(jan_2023['rw_4'] < 0, 1, 0)\n",
    "should_buy = jan_2023['open'].shift(-1) > jan_2023['open']\n",
    "print(classification_report(should_buy, buy))"
   ]
  },
  {
   "cell_type": "code",
   "execution_count": 12,
   "id": "6f6b732b-9ae9-492d-9002-ddfb306819e2",
   "metadata": {
    "collapsed": false
   },
   "outputs": [
    {
     "name": "stdout",
     "output_type": "stream",
     "text": [
      "Final portfolio value: 12119.594835720036\n",
      "Total return: 2119.594835720036\n"
     ]
    }
   ],
   "source": [
    "def trading_sim(df):\n",
    "    initial_investment = 10000  # Starting amount in cash\n",
    "    cash = initial_investment\n",
    "    holdings = 0\n",
    "    returns = []\n",
    "    # Simulate the trading bot's performance\n",
    "    for index, row in df.iterrows():\n",
    "        if row['buy']:\n",
    "            if holdings == 0:  # Buy only if not already holding the commodity\n",
    "                holdings = cash / row['price']\n",
    "                cash = 0\n",
    "        else:\n",
    "            if holdings > 0:  # Sell only if holding the commodity\n",
    "                cash = holdings * row['price']\n",
    "                holdings = 0\n",
    "        returns.append(cash if cash > 0 else holdings * row['price'])\n",
    "\n",
    "    # Add the performance (returns) column to the DataFrame\n",
    "    df['performance'] = returns\n",
    "\n",
    "    # Display the DataFrame with the new 'performance' column\n",
    "    # print(df[['price', 'buy', 'performance']])\n",
    "\n",
    "    # Final performance result\n",
    "    final_value = cash + (holdings * df.iloc[-1]['price'] if holdings > 0 else 0)\n",
    "    print(f\"Final portfolio value: {final_value}\")\n",
    "    print(f\"Total return: {final_value - initial_investment}\")\n",
    "\n",
    "def trading_sim_preproc(df):\n",
    "    df_proc = pd.DataFrame()\n",
    "    buy = np.where(df['rw_4'] < 0, 1, 0)\n",
    "    df_proc['price'] = df['open']\n",
    "    df_proc['buy'] = buy\n",
    "    return df_proc\n",
    "\n",
    "trading_sim(trading_sim_preproc(jan_2023))"
   ]
  },
  {
   "cell_type": "code",
   "execution_count": 13,
   "id": "9d76a39e-d973-43b8-bfdb-7cf37f117fc5",
   "metadata": {
    "collapsed": false
   },
   "outputs": [
    {
     "name": "stdout",
     "output_type": "stream",
     "text": [
      "Final portfolio value: 32728.4622474298\n",
      "Total return: 22728.4622474298\n"
     ]
    }
   ],
   "source": [
    "df = pd.DataFrame()\n",
    "df['price'] = jan_2023['open']\n",
    "df['buy'] = should_buy\n",
    "trading_sim(df)\n"
   ]
  },
  {
   "cell_type": "code",
   "execution_count": 14,
   "id": "c82102fd-e3ff-4f0b-b29e-5c09260df037",
   "metadata": {
    "collapsed": false
   },
   "outputs": [
    {
     "ename": "KeyError",
     "evalue": "\"None of ['open_date'] are in the columns\"",
     "output_type": "error",
     "traceback": [
      "\u001b[0;31m---------------------------------------------------------------------------\u001b[0m",
      "\u001b[0;31mKeyError\u001b[0m                                  Traceback (most recent call last)",
      "\u001b[0;32m/tmp/ipykernel_22821/531596190.py\u001b[0m in \u001b[0;36m?\u001b[0;34m()\u001b[0m\n\u001b[1;32m      1\u001b[0m \u001b[0;32mfor\u001b[0m \u001b[0mi\u001b[0m \u001b[0;32min\u001b[0m \u001b[0mrange\u001b[0m\u001b[0;34m(\u001b[0m\u001b[0;36m1\u001b[0m\u001b[0;34m,\u001b[0m\u001b[0;36m13\u001b[0m\u001b[0;34m)\u001b[0m\u001b[0;34m:\u001b[0m\u001b[0;34m\u001b[0m\u001b[0;34m\u001b[0m\u001b[0m\n\u001b[0;32m----> 2\u001b[0;31m     \u001b[0mdf\u001b[0m \u001b[0;34m=\u001b[0m \u001b[0mpreproc\u001b[0m\u001b[0;34m(\u001b[0m\u001b[0mvalues\u001b[0m\u001b[0;34m[\u001b[0m\u001b[0;36m2023\u001b[0m\u001b[0;34m]\u001b[0m\u001b[0;34m[\u001b[0m\u001b[0mi\u001b[0m\u001b[0;34m]\u001b[0m\u001b[0;34m)\u001b[0m\u001b[0;34m\u001b[0m\u001b[0;34m\u001b[0m\u001b[0m\n\u001b[0m\u001b[1;32m      3\u001b[0m     \u001b[0mtrading_sim\u001b[0m\u001b[0;34m(\u001b[0m\u001b[0mtrading_sim_preproc\u001b[0m\u001b[0;34m(\u001b[0m\u001b[0mdf\u001b[0m\u001b[0;34m)\u001b[0m\u001b[0;34m)\u001b[0m\u001b[0;34m\u001b[0m\u001b[0;34m\u001b[0m\u001b[0m\n",
      "\u001b[0;32m/tmp/ipykernel_22821/1371465153.py\u001b[0m in \u001b[0;36m?\u001b[0;34m(df)\u001b[0m\n\u001b[1;32m     14\u001b[0m \u001b[0;32mdef\u001b[0m \u001b[0mpreproc\u001b[0m\u001b[0;34m(\u001b[0m\u001b[0mdf\u001b[0m\u001b[0;34m)\u001b[0m\u001b[0;34m:\u001b[0m\u001b[0;34m\u001b[0m\u001b[0;34m\u001b[0m\u001b[0m\n\u001b[1;32m     15\u001b[0m     \u001b[0mcompute_lags\u001b[0m\u001b[0;34m(\u001b[0m\u001b[0mdf\u001b[0m\u001b[0;34m)\u001b[0m\u001b[0;34m\u001b[0m\u001b[0;34m\u001b[0m\u001b[0m\n\u001b[1;32m     16\u001b[0m     \u001b[0mcompute_diff\u001b[0m\u001b[0;34m(\u001b[0m\u001b[0mdf\u001b[0m\u001b[0;34m)\u001b[0m\u001b[0;34m\u001b[0m\u001b[0;34m\u001b[0m\u001b[0m\n\u001b[1;32m     17\u001b[0m     \u001b[0mcompute_rw\u001b[0m\u001b[0;34m(\u001b[0m\u001b[0mdf\u001b[0m\u001b[0;34m)\u001b[0m\u001b[0;34m\u001b[0m\u001b[0;34m\u001b[0m\u001b[0m\n\u001b[0;32m---> 18\u001b[0;31m     \u001b[0mdf\u001b[0m\u001b[0;34m.\u001b[0m\u001b[0mset_index\u001b[0m\u001b[0;34m(\u001b[0m\u001b[0;34m'open_date'\u001b[0m\u001b[0;34m,\u001b[0m \u001b[0minplace\u001b[0m\u001b[0;34m=\u001b[0m\u001b[0;32mTrue\u001b[0m\u001b[0;34m)\u001b[0m\u001b[0;34m\u001b[0m\u001b[0;34m\u001b[0m\u001b[0m\n\u001b[0m\u001b[1;32m     19\u001b[0m     \u001b[0;32mreturn\u001b[0m \u001b[0mdf\u001b[0m\u001b[0;34m\u001b[0m\u001b[0;34m\u001b[0m\u001b[0m\n",
      "\u001b[0;32m~/Documents/postgrados/ia/tp-final/Tp Final/.venv/lib64/python3.13/site-packages/pandas/core/frame.py\u001b[0m in \u001b[0;36m?\u001b[0;34m(self, keys, drop, append, inplace, verify_integrity)\u001b[0m\n\u001b[1;32m   6118\u001b[0m                     \u001b[0;32mif\u001b[0m \u001b[0;32mnot\u001b[0m \u001b[0mfound\u001b[0m\u001b[0;34m:\u001b[0m\u001b[0;34m\u001b[0m\u001b[0;34m\u001b[0m\u001b[0m\n\u001b[1;32m   6119\u001b[0m                         \u001b[0mmissing\u001b[0m\u001b[0;34m.\u001b[0m\u001b[0mappend\u001b[0m\u001b[0;34m(\u001b[0m\u001b[0mcol\u001b[0m\u001b[0;34m)\u001b[0m\u001b[0;34m\u001b[0m\u001b[0;34m\u001b[0m\u001b[0m\n\u001b[1;32m   6120\u001b[0m \u001b[0;34m\u001b[0m\u001b[0m\n\u001b[1;32m   6121\u001b[0m         \u001b[0;32mif\u001b[0m \u001b[0mmissing\u001b[0m\u001b[0;34m:\u001b[0m\u001b[0;34m\u001b[0m\u001b[0;34m\u001b[0m\u001b[0m\n\u001b[0;32m-> 6122\u001b[0;31m             \u001b[0;32mraise\u001b[0m \u001b[0mKeyError\u001b[0m\u001b[0;34m(\u001b[0m\u001b[0;34mf\"\u001b[0m\u001b[0;34mNone of \u001b[0m\u001b[0;34m{\u001b[0m\u001b[0mmissing\u001b[0m\u001b[0;34m}\u001b[0m\u001b[0;34m are in the columns\u001b[0m\u001b[0;34m\"\u001b[0m\u001b[0;34m)\u001b[0m\u001b[0;34m\u001b[0m\u001b[0;34m\u001b[0m\u001b[0m\n\u001b[0m\u001b[1;32m   6123\u001b[0m \u001b[0;34m\u001b[0m\u001b[0m\n\u001b[1;32m   6124\u001b[0m         \u001b[0;32mif\u001b[0m \u001b[0minplace\u001b[0m\u001b[0;34m:\u001b[0m\u001b[0;34m\u001b[0m\u001b[0;34m\u001b[0m\u001b[0m\n\u001b[1;32m   6125\u001b[0m             \u001b[0mframe\u001b[0m \u001b[0;34m=\u001b[0m \u001b[0mself\u001b[0m\u001b[0;34m\u001b[0m\u001b[0;34m\u001b[0m\u001b[0m\n",
      "\u001b[0;31mKeyError\u001b[0m: \"None of ['open_date'] are in the columns\""
     ]
    }
   ],
   "source": [
    "for i in range(1,13):\n",
    "    df = preproc(values[2023][i])\n",
    "    trading_sim(trading_sim_preproc(df))"
   ]
  },
  {
   "cell_type": "code",
   "execution_count": 27,
   "id": "e7f88012-522e-40c6-9dd0-12e1b410ef12",
   "metadata": {
    "collapsed": false
   },
   "outputs": [
    {
     "name": "stdout",
     "output_type": "stream",
     "text": [
      "Transformed Target Column:\n",
      "                      target\n",
      "open_date                  \n",
      "2023-01-01 01:00:00       1\n",
      "2023-01-01 02:00:00       0\n",
      "2023-01-01 03:00:00       0\n",
      "2023-01-01 04:00:00       0\n",
      "2023-01-01 05:00:00       0\n",
      "...                     ...\n",
      "2023-01-31 19:00:00       0\n",
      "2023-01-31 20:00:00       0\n",
      "2023-01-31 21:00:00       0\n",
      "2023-01-31 22:00:00       0\n",
      "2023-01-31 23:00:00       0\n",
      "\n",
      "[743 rows x 1 columns]\n",
      "\n",
      "Strategy Sharpe Ratio: -6.62\n"
     ]
    }
   ],
   "source": [
    "import numpy as np\n",
    "import pandas as pd\n",
    "from sklearn.base import BaseEstimator, TransformerMixin\n",
    "from sklearn.pipeline import Pipeline\n",
    "\n",
    "# Custom Transformer: Ensures only the first '1' remains, the rest turn to '0'\n",
    "class FirstBuyOnly(BaseEstimator, TransformerMixin):\n",
    "    def fit(self, X, y=None):\n",
    "        return self\n",
    "    \n",
    "    def transform(self, X):\n",
    "        X = X.copy()\n",
    "        X['target'] = 0  # Reset all to 0\n",
    "        \n",
    "        X.at[X.index[0], 'target'] = 1\n",
    "        return X\n",
    "\n",
    "# Updated Scoring Function: Computes Sharpe Ratio\n",
    "def sharpe_ratio_scorer(y_true, y_pred, X, risk_free_rate=0):\n",
    "    buy_prices = X.loc[X['target'] == 1, 'open']  # Get all buy prices\n",
    "    daily_returns = X['open'].pct_change().dropna()  # Compute daily returns\n",
    "\n",
    "    if buy_prices.empty or daily_returns.empty:\n",
    "        print(\"No trades\")\n",
    "        return 0  # No trades or not enough data\n",
    "\n",
    "    excess_returns = daily_returns - risk_free_rate\n",
    "    sharpe_ratio = (np.mean(excess_returns) / np.std(excess_returns)) * np.sqrt(252)  # Annualized\n",
    "\n",
    "    return sharpe_ratio\n",
    "\n",
    "# Create the Pipeline\n",
    "pipeline = Pipeline([\n",
    "    ('first_buy_only', FirstBuyOnly()),  # Transform target column\n",
    "])\n",
    "\n",
    "df = jan_2023\n",
    "df['target'] = 0\n",
    "# Transform the Data\n",
    "transformed_df = pipeline.fit_transform(df)\n",
    "\n",
    "# Compute the Sharpe Ratio\n",
    "strategy_sharpe = sharpe_ratio_scorer(df['target'], transformed_df['target'], transformed_df, 0.04/np.sqrt(252))\n",
    "\n",
    "# Display Results\n",
    "print(\"Transformed Target Column:\\n\", transformed_df[['target']])\n",
    "print(\"\\nStrategy Sharpe Ratio: {:.2f}\".format(strategy_sharpe))"
   ]
  },
  {
   "cell_type": "code",
   "execution_count": 35,
   "id": "166a117a-cdbc-4e4a-aa72-a86f7fe4e121",
   "metadata": {
    "collapsed": false
   },
   "outputs": [
    {
     "data": {
      "text/plain": [
       "np.float64(1.402443133798237)"
      ]
     },
     "execution_count": 35,
     "metadata": {},
     "output_type": "execute_result"
    }
   ],
   "source": [
    "spent = (transformed_df['target'] * transformed_df['open']).sum()\n",
    "valuation = transformed_df['target'].sum() * transformed_df['open'].iloc[-1]\n",
    "return = valuation / spent"
   ]
  }
 ],
 "metadata": {
  "kernelspec": {
   "argv": [
    "python",
    "-m",
    "ipykernel_launcher",
    "-f",
    "{connection_file}"
   ],
   "display_name": "Python 3 (ipykernel)",
   "env": null,
   "interrupt_mode": "signal",
   "language": "python",
   "metadata": {
    "debugger": true
   },
   "name": "python3"
  },
  "name": "basic.ipynb"
 },
 "nbformat": 4,
 "nbformat_minor": 5
}
